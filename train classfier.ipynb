{
 "cells": [
  {
   "cell_type": "code",
   "execution_count": 12,
   "metadata": {},
   "outputs": [],
   "source": [
    "import cv2\n",
    "import numpy as np\n",
    "import matplotlib.pyplot as plt\n",
    "import tensorflow as tf\n",
    "from tensorflow.keras.preprocessing.image import ImageDataGenerator\n",
    "from tensorflow.keras.preprocessing import image\n",
    "from keras.regularizers import l2, l1"
   ]
  },
  {
   "cell_type": "code",
   "execution_count": 13,
   "metadata": {},
   "outputs": [],
   "source": [
    "def binarize(img):\n",
    "    img = image.img_to_array(img, dtype='uint8')\n",
    "    binarized = np.expand_dims(cv2.adaptiveThreshold(img,255,cv2.ADAPTIVE_THRESH_MEAN_C, cv2.THRESH_BINARY,11,2), -1)\n",
    "    inverted_binary_img = ~binarized\n",
    "    return inverted_binary_img"
   ]
  },
  {
   "cell_type": "markdown",
   "metadata": {},
   "source": [
    "**Set Training Path**"
   ]
  },
  {
   "cell_type": "code",
   "execution_count": 14,
   "metadata": {},
   "outputs": [],
   "source": [
    "data_dir = 'extracted_images'\n",
    "batch_size = 32\n",
    "img_height = 45\n",
    "img_width = 45"
   ]
  },
  {
   "cell_type": "code",
   "execution_count": 15,
   "metadata": {},
   "outputs": [],
   "source": [
    "train_datagen = ImageDataGenerator(preprocessing_function=binarize)"
   ]
  },
  {
   "cell_type": "code",
   "execution_count": 16,
   "metadata": {},
   "outputs": [
    {
     "name": "stdout",
     "output_type": "stream",
     "text": [
      "Found 83933 images belonging to 24 classes.\n"
     ]
    }
   ],
   "source": [
    "train_generator = train_datagen.flow_from_directory(\n",
    "        data_dir,\n",
    "        target_size=(img_height, img_width),\n",
    "        batch_size=batch_size,\n",
    "        color_mode=\"grayscale\",\n",
    "        class_mode=\"categorical\",\n",
    "        seed=123)"
   ]
  },
  {
   "cell_type": "code",
   "execution_count": 17,
   "metadata": {},
   "outputs": [
    {
     "data": {
      "text/plain": [
       "['(',\n",
       " ')',\n",
       " '+',\n",
       " '-',\n",
       " '0',\n",
       " '1',\n",
       " '2',\n",
       " '3',\n",
       " '4',\n",
       " '5',\n",
       " '6',\n",
       " '7',\n",
       " '8',\n",
       " '9',\n",
       " '=',\n",
       " 'X',\n",
       " 'cos',\n",
       " 'div',\n",
       " 'log',\n",
       " 'sin',\n",
       " 'tan',\n",
       " 'times',\n",
       " 'y',\n",
       " 'z']"
      ]
     },
     "execution_count": 17,
     "metadata": {},
     "output_type": "execute_result"
    }
   ],
   "source": [
    "class_names = [k for k,v in train_generator.class_indices.items()]\n",
    "class_names\n",
    "# class_names = ['(',')','+','-','0','1','2','3','4','5','6','7','8','9','=','A','X','b','cos','div','log','sin','tan','theta','times','y','z']"
   ]
  },
  {
   "cell_type": "markdown",
   "metadata": {},
   "source": [
    "**Convolutional Neural Network**"
   ]
  },
  {
   "cell_type": "code",
   "execution_count": 18,
   "metadata": {},
   "outputs": [],
   "source": [
    "num_classes = len(class_names)\n",
    "\n",
    "model = tf.keras.Sequential([\n",
    "  tf.keras.layers.Input((45, 45, 1)),\n",
    "  tf.keras.layers.experimental.preprocessing.Rescaling(1./255), # originally tf.keras.layers.Rescaling\n",
    "  tf.keras.layers.Conv2D(32, 3, activation='relu', padding='same'),\n",
    "  tf.keras.layers.MaxPooling2D(),\n",
    "  tf.keras.layers.Conv2D(32, 3, activation='relu'),\n",
    "  tf.keras.layers.MaxPooling2D(),\n",
    "  tf.keras.layers.Conv2D(32, 3, activation='relu'),\n",
    "  tf.keras.layers.MaxPooling2D(),\n",
    "  tf.keras.layers.Flatten(),\n",
    "  tf.keras.layers.Dense(128, activation='relu', kernel_regularizer=tf.keras.regularizers.l1(0.01)),\n",
    "  tf.keras.layers.Dropout(0.25),\n",
    "  tf.keras.layers.Dense(num_classes, activation='softmax')\n",
    "])"
   ]
  },
  {
   "cell_type": "code",
   "execution_count": 19,
   "metadata": {},
   "outputs": [
    {
     "name": "stdout",
     "output_type": "stream",
     "text": [
      "Model: \"sequential_1\"\n",
      "_________________________________________________________________\n",
      " Layer (type)                Output Shape              Param #   \n",
      "=================================================================\n",
      " rescaling_1 (Rescaling)     (None, 45, 45, 1)         0         \n",
      "                                                                 \n",
      " conv2d_3 (Conv2D)           (None, 45, 45, 32)        320       \n",
      "                                                                 \n",
      " max_pooling2d_3 (MaxPooling  (None, 22, 22, 32)       0         \n",
      " 2D)                                                             \n",
      "                                                                 \n",
      " conv2d_4 (Conv2D)           (None, 20, 20, 32)        9248      \n",
      "                                                                 \n",
      " max_pooling2d_4 (MaxPooling  (None, 10, 10, 32)       0         \n",
      " 2D)                                                             \n",
      "                                                                 \n",
      " conv2d_5 (Conv2D)           (None, 8, 8, 32)          9248      \n",
      "                                                                 \n",
      " max_pooling2d_5 (MaxPooling  (None, 4, 4, 32)         0         \n",
      " 2D)                                                             \n",
      "                                                                 \n",
      " flatten_1 (Flatten)         (None, 512)               0         \n",
      "                                                                 \n",
      " dense_2 (Dense)             (None, 128)               65664     \n",
      "                                                                 \n",
      " dropout_1 (Dropout)         (None, 128)               0         \n",
      "                                                                 \n",
      " dense_3 (Dense)             (None, 24)                3096      \n",
      "                                                                 \n",
      "=================================================================\n",
      "Total params: 87,576\n",
      "Trainable params: 87,576\n",
      "Non-trainable params: 0\n",
      "_________________________________________________________________\n"
     ]
    }
   ],
   "source": [
    "model.summary()"
   ]
  },
  {
   "cell_type": "code",
   "execution_count": 20,
   "metadata": {},
   "outputs": [],
   "source": [
    "lr_schedule = tf.keras.optimizers.schedules.ExponentialDecay(\n",
    "    initial_learning_rate=1e-3,\n",
    "    decay_steps=10000,\n",
    "    decay_rate=0.9\n",
    ")\n",
    "optimizer = tf.keras.optimizers.Adam(learning_rate=lr_schedule)\n",
    "\n",
    "model.compile(\n",
    "  optimizer=optimizer,\n",
    "  loss=tf.losses.CategoricalCrossentropy(from_logits=True),\n",
    "  metrics=['accuracy'])"
   ]
  },
  {
   "cell_type": "code",
   "execution_count": 21,
   "metadata": {},
   "outputs": [],
   "source": [
    "model.compile(\n",
    "  optimizer='adam',\n",
    "  loss=tf.losses.CategoricalCrossentropy(from_logits=True),\n",
    "  metrics=['accuracy'])"
   ]
  },
  {
   "cell_type": "code",
   "execution_count": 22,
   "metadata": {},
   "outputs": [
    {
     "name": "stdout",
     "output_type": "stream",
     "text": [
      "Epoch 1/5\n",
      "2623/2623 [==============================] - 376s 142ms/step - loss: 1.8037 - accuracy: 0.7905\n",
      "Epoch 2/5\n",
      "2623/2623 [==============================] - 161s 61ms/step - loss: 0.9411 - accuracy: 0.8736\n",
      "Epoch 3/5\n",
      "2623/2623 [==============================] - 116s 44ms/step - loss: 0.8695 - accuracy: 0.8855\n",
      "Epoch 4/5\n",
      "2623/2623 [==============================] - 114s 43ms/step - loss: 0.8344 - accuracy: 0.8909\n",
      "Epoch 5/5\n",
      "2623/2623 [==============================] - 112s 43ms/step - loss: 0.8063 - accuracy: 0.8961\n"
     ]
    },
    {
     "data": {
      "text/plain": [
       "<keras.callbacks.History at 0x2933a8ae620>"
      ]
     },
     "execution_count": 22,
     "metadata": {},
     "output_type": "execute_result"
    }
   ],
   "source": [
    "# early_stopping = tf.keras.callbacks.EarlyStopping(monitor='accuracy')\n",
    "\n",
    "model.fit(\n",
    "  train_generator,\n",
    "  epochs=5,\n",
    "  batch_size=5\n",
    "  )"
   ]
  },
  {
   "cell_type": "code",
   "execution_count": 23,
   "metadata": {},
   "outputs": [
    {
     "name": "stderr",
     "output_type": "stream",
     "text": [
      "WARNING:absl:Found untraced functions such as _jit_compiled_convolution_op, _jit_compiled_convolution_op, _jit_compiled_convolution_op, _update_step_xla while saving (showing 4 of 4). These functions will not be directly callable after loading.\n"
     ]
    },
    {
     "name": "stdout",
     "output_type": "stream",
     "text": [
      "INFO:tensorflow:Assets written to: eqn-detect18-model\\assets\n"
     ]
    },
    {
     "name": "stderr",
     "output_type": "stream",
     "text": [
      "INFO:tensorflow:Assets written to: eqn-detect18-model\\assets\n"
     ]
    }
   ],
   "source": [
    "model.save('eqn-detect18-model')"
   ]
  },
  {
   "cell_type": "code",
   "execution_count": 24,
   "metadata": {},
   "outputs": [],
   "source": [
    "image_dir = \"equation_images/\""
   ]
  },
  {
   "cell_type": "code",
   "execution_count": 25,
   "metadata": {},
   "outputs": [],
   "source": [
    "def getOverlap(a, b):\n",
    "     return max(0, min(a[1], b[1]) - max(a[0], b[0]))\n",
    "def detect_contours(img_path):\n",
    "    # Given an image path, output bounding box coordinates of an image\n",
    "    input_image = cv2.imread(img_path, 0) # Load a greyscale image\n",
    " \n",
    "    # Make a copy to draw bounding box\n",
    "    input_image_cpy = input_image.copy()\n",
    "\n",
    "    # Convert the grayscale image to binary (image binarization opencv python), then invert\n",
    "    binarized = cv2.adaptiveThreshold(input_image_cpy,255,cv2.ADAPTIVE_THRESH_MEAN_C, cv2.THRESH_BINARY,11,2)\n",
    "    inverted_binary_img = ~binarized\n",
    "\n",
    "    # Detect contours\n",
    "    # hierarchy variable contains information about the relationship between each contours\n",
    "    contours_list, hierarchy = cv2.findContours(inverted_binary_img,\n",
    "                                           cv2.RETR_TREE,\n",
    "                                           cv2.CHAIN_APPROX_SIMPLE) # Find contours\n",
    "    # Detect contours\n",
    "    l = []\n",
    "    for c in contours_list:\n",
    "        x, y, w, h = cv2.boundingRect(c)\n",
    "        l.append([x, y, w, h])\n",
    "    # Check whether any overlapping rectangles. We do this in a way such that we only compare each box once with all other boxes.\n",
    "    lcopy = l.copy()\n",
    "    keep = []\n",
    "    while len(lcopy) != 0:\n",
    "        curr_x, curr_y, curr_w, curr_h = lcopy.pop(0) # Look at next box\n",
    "        if curr_w * curr_h < 20: # remove very small boxes\n",
    "            continue\n",
    "        throw = []\n",
    "        for i, (x, y, w, h) in enumerate(lcopy):\n",
    "            curr_interval = [curr_x, curr_x+curr_w]\n",
    "            next_interval = [x, x+w]\n",
    "            if getOverlap(curr_interval, next_interval) > 1 : # more than 3 pixels overlap, this is arbitrary\n",
    "                # Merge the two intervals\n",
    "                new_interval_x = [min(curr_x, x), max(curr_x+curr_w, x+w)]\n",
    "                new_interval_y = [min(curr_y, y), max(curr_y+curr_h, y+h)]\n",
    "                newx, neww = new_interval_x[0], new_interval_x[1] - new_interval_x[0]\n",
    "                newy, newh = new_interval_y[0], new_interval_y[1] - new_interval_y[0]\n",
    "                curr_x, curr_y, curr_w, curr_h = newx, newy, neww, newh\n",
    "                throw.append(i) # Mark this box to throw away later, since it has now been merged with current box\n",
    "        for ind in sorted(throw, reverse=True): # Sort in reverse order otherwise we will pop incorrectly\n",
    "            lcopy.pop(ind)\n",
    "        keep.append([curr_x, curr_y, curr_w, curr_h]) # Keep the current box we are comparing against\n",
    "    return keep"
   ]
  },
  {
   "cell_type": "code",
   "execution_count": 26,
   "metadata": {},
   "outputs": [],
   "source": [
    "def resize_pad(img, size, padColor=255):\n",
    "\n",
    "    h, w = img.shape[:2]\n",
    "    sh, sw = size\n",
    "\n",
    "    # interpolation method\n",
    "    if h > sh or w > sw: # shrinking image\n",
    "        interp = cv2.INTER_AREA\n",
    "    else: # stretching image\n",
    "        interp = cv2.INTER_CUBIC\n",
    "\n",
    "    # aspect ratio of image\n",
    "    aspect = w/h  # if on Python 2, you might need to cast as a float: float(w)/h\n",
    "\n",
    "    # compute scaling and pad sizing\n",
    "    if aspect > 1: # horizontal image\n",
    "        new_w = sw\n",
    "        new_h = np.round(new_w/aspect).astype(int)\n",
    "        pad_vert = (sh-new_h)/2\n",
    "        pad_top, pad_bot = np.floor(pad_vert).astype(int), np.ceil(pad_vert).astype(int)\n",
    "        pad_left, pad_right = 0, 0\n",
    "    elif aspect < 1: # vertical image\n",
    "        new_h = sh\n",
    "        new_w = np.round(new_h*aspect).astype(int)\n",
    "        pad_horz = (sw-new_w)/2\n",
    "        pad_left, pad_right = np.floor(pad_horz).astype(int), np.ceil(pad_horz).astype(int)\n",
    "        pad_top, pad_bot = 0, 0\n",
    "    else: # square image\n",
    "        new_h, new_w = sh, sw\n",
    "        pad_left, pad_right, pad_top, pad_bot = 0, 0, 0, 0\n",
    "\n",
    "    # set pad color\n",
    "    if len(img.shape) == 3 and not isinstance(padColor, (list, tuple, np.ndarray)): # color image but only one color provided\n",
    "        padColor = [padColor]*3\n",
    "\n",
    "    # scale and pad\n",
    "    scaled_img = cv2.resize(img, (new_w, new_h), interpolation=interp)\n",
    "    scaled_img = cv2.copyMakeBorder(scaled_img, pad_top, pad_bot, pad_left, pad_right, borderType=cv2.BORDER_CONSTANT, value=padColor)\n",
    "\n",
    "    return scaled_img"
   ]
  },
  {
   "cell_type": "code",
   "execution_count": 27,
   "metadata": {},
   "outputs": [],
   "source": [
    "# Load model\n",
    "new_model = tf.keras.models.load_model('eqn-detect18-model', compile=False)"
   ]
  },
  {
   "cell_type": "code",
   "execution_count": 28,
   "metadata": {},
   "outputs": [
    {
     "name": "stdout",
     "output_type": "stream",
     "text": [
      "6\n"
     ]
    },
    {
     "data": {
      "image/png": "[encoded data removed]",
      "text/plain": [
       "<Figure size 640x480 with 1 Axes>"
      ]
     },
     "metadata": {},
     "output_type": "display_data"
    }
   ],
   "source": [
    "flag = 0\n",
    "IMAGE = \"lineareqy3.png\"\n",
    "img_path = \"equation_images/\"+IMAGE\n",
    "\n",
    "if flag == 1:\n",
    "    input_image = cv2.imread(img_path) \n",
    "    ret, bw_img = cv2.threshold(input_image,127,255,cv2.THRESH_BINARY)\n",
    "    plt.imshow(bw_img)\n",
    "    plt.show()\n",
    "    cv2.imwrite(img_path, bw_img) \n",
    "    input_image_cpy = bw_img.copy()\n",
    "    keep = detect_contours(image_dir+IMAGE)\n",
    "    print(len(keep))\n",
    "    img_path = image_dir+IMAGE\n",
    "else:\n",
    "    input_image = cv2.imread(img_path, 0) \n",
    "    input_image_cpy = input_image.copy()\n",
    "    keep = detect_contours(image_dir+IMAGE)\n",
    "    print(len(keep))\n",
    "\n",
    "#Visualise how the bounding boxes look like\n",
    "for (x, y, w, h) in keep:\n",
    "    cv2.rectangle(input_image_cpy, (x, y), (x + w, y + h), (0, 0, 255), 1)\n",
    "plt.imshow(input_image_cpy, cmap='gray')\n",
    "plt.show()\n",
    "\n"
   ]
  },
  {
   "cell_type": "code",
   "execution_count": 29,
   "metadata": {},
   "outputs": [
    {
     "name": "stdout",
     "output_type": "stream",
     "text": [
      "1/1 [==============================] - 0s 152ms/step\n",
      "3\n",
      "1/1 [==============================] - 0s 24ms/step\n",
      "y\n",
      "1/1 [==============================] - 0s 21ms/step\n",
      "+\n",
      "1/1 [==============================] - 0s 24ms/step\n",
      "1\n",
      "1/1 [==============================] - 0s 26ms/step\n",
      "=\n",
      "1/1 [==============================] - 0s 23ms/step\n",
      "2\n",
      "3y+1=2\n"
     ]
    }
   ],
   "source": [
    "eqn_list = []\n",
    "\n",
    "# binarize the input image\n",
    "#IMAGE = \"akshibig.jpg\"\n",
    "#img_path = \"equation_images/\"+IMAGE\n",
    "input_image = cv2.imread(img_path, 0) \n",
    "inverted_binary_img = binarize(input_image)\n",
    "# plt.imshow(input_image, cmap='gray')\n",
    "# plt.show()\n",
    "# plt.imshow(inverted_binary_img, cmap='gray')\n",
    "# plt.show()\n",
    "\n",
    "for (x, y, w, h) in sorted(keep, key = lambda x: x[0]):\n",
    "    # plt.imshow(inverted_binary_img[y:y+h, x:x+w])\n",
    "    # plt.show()\n",
    "    img = resize_pad(inverted_binary_img[y:y+h, x:x+w], (45, 45), 0) # We must use the binarized image to predict\n",
    "    # plt.imshow(img)\n",
    "    # plt.show()\n",
    "    pred_class = class_names[np.argmax(new_model.predict(tf.expand_dims(tf.expand_dims(img, 0), -1)))]\n",
    "    if pred_class == \"times\":\n",
    "        pred_class = \"*\"\n",
    "    if pred_class == \"div\":\n",
    "        pred_class = chr(47)\n",
    "    eqn_list.append(pred_class)\n",
    "    print(pred_class)\n",
    "    #plt.imshow(img)\n",
    "    #plt.show()\n",
    "eqn = \"\".join(eqn_list)\n",
    "print(eqn)"
   ]
  },
  {
   "cell_type": "code",
   "execution_count": 26,
   "metadata": {},
   "outputs": [
    {
     "name": "stdout",
     "output_type": "stream",
     "text": [
      "(((((\n"
     ]
    }
   ],
   "source": [
    "print(eqn)"
   ]
  },
  {
   "cell_type": "code",
   "execution_count": 54,
   "metadata": {},
   "outputs": [
    {
     "data": {
      "text/plain": [
       "str"
      ]
     },
     "execution_count": 54,
     "metadata": {},
     "output_type": "execute_result"
    }
   ],
   "source": [
    "type(eqn)"
   ]
  },
  {
   "cell_type": "code",
   "execution_count": 18,
   "metadata": {},
   "outputs": [],
   "source": [
    "def put_double_asterisk(s):\n",
    "    # Convert the string to a list\n",
    "    lst = list(s)\n",
    "    i = 0\n",
    "    # Iterate over the list\n",
    "    while i < len(lst)-1:\n",
    "        if lst[i].isalpha():\n",
    "            if lst[i+1].isdigit():\n",
    "                # Insert the double asterisk\n",
    "                lst.insert(i+1, '**')\n",
    "                i += 1\n",
    "        i += 1\n",
    "    # Convert the list back to a string\n",
    "    s_new = ''.join(lst)\n",
    "    return s_new\n",
    "\n",
    "def put_single_asterisk(s):\n",
    "    lst = list(s)\n",
    "    i=0\n",
    "    while i < len(lst)-1:\n",
    "        if lst[i].isdigit() and lst[i+1].isalpha():\n",
    "            lst.insert(i+1,'*')\n",
    "        i+=1\n",
    "    s_new = ''.join(lst)\n",
    "    return s_new "
   ]
  },
  {
   "cell_type": "markdown",
   "metadata": {},
   "source": [
    "# we need to write a function with try and exceptions blocks \n",
    "# "
   ]
  },
  {
   "cell_type": "code",
   "execution_count": 27,
   "metadata": {},
   "outputs": [],
   "source": [
    "from sympy import *\n",
    "import sympy as sym\n",
    "def solve_equation(equation):\n",
    "    try:\n",
    "        equation = put_double_asterisk(equation)\n",
    "        equation = put_single_asterisk(equation)\n",
    "        # print(equation)\n",
    "        # print(\"1\")\n",
    "        if 'x' in equation and '=' in equation:\n",
    "            x = sym.symbols('x')\n",
    "            left, right = equation.split(\"=\")\n",
    "            # print(\"6\")\n",
    "            eq = left+'-'+right\n",
    "            # print('---------------')\n",
    "            result = sym.solve(eq, (x))\n",
    "\n",
    "            return result, equation\n",
    "        elif 'x' in equation and '=' not in equation:\n",
    "            x = sym.symbols('x')\n",
    "            result = sym.solveset(equation, x)\n",
    "            return result, equation\n",
    "        \n",
    "        elif 'y' in equation and '=' in equation:\n",
    "            y = sym.symbols('y')\n",
    "\n",
    "            left, right = equation.split(\"=\")\n",
    "            # print(\"6\")\n",
    "            eq = left+'-'+right\n",
    "            # print('---------------')\n",
    "            result = sym.solve(eq, (y))\n",
    "\n",
    "            return result, equation\n",
    "        elif 'y' in equation and '=' not in equation:\n",
    "            y=sym.symbols('y')\n",
    "            result = sym.solveset(equation,y)\n",
    "            return result, equation\n",
    "        \n",
    "        elif 'x' in equation and 'y' in equation and '=' in equation :\n",
    "            x,y = sym.symbols('x,y')\n",
    "\n",
    "            left, right = equation.split(\"=\")\n",
    "            # print(\"6\")\n",
    "            eq = left+'-'+right\n",
    "            # print('---------------')\n",
    "            result = sym.solve(eq, (x,y))\n",
    "\n",
    "            return result, equation\n",
    "        \n",
    "        elif '=' in equation and 'sin' in equation or 'tan' in equation or 'cos' in equation:\n",
    "            if 'x' in equation and 'y' in equation:\n",
    "                x,y = symbols('x,y')\n",
    "                eq_sympy = sympify(equation)\n",
    "                result = solve((eq_sympy), (x,y))\n",
    "                return result, equation\n",
    "            elif 'x' in equation:\n",
    "                x = symbols('x')\n",
    "                eq_sympy = sympify(equation)\n",
    "                result = solve((eq_sympy), x)\n",
    "                return result, equation\n",
    "            elif 'y' in equation:\n",
    "                y = symbols('y')\n",
    "                eq_sympy = sympify(equation)\n",
    "                result = solve((eq_sympy), y)\n",
    "                return result, equation\n",
    "            else:\n",
    "                pass\n",
    "        else:\n",
    "            pass\n",
    "        # print(\"2\")\n",
    "\n",
    "        if \"=\" not in equation:\n",
    "\n",
    "            if 'sin' in equation or 'tan' in equation:\n",
    "                eq = sympify(equation)\n",
    "                result = eq.evalf()\n",
    "                return result, equation\n",
    "            \n",
    "            # print(\"3\")\n",
    "            result = sym.simplify(equation)\n",
    "            # print(\"4\")\n",
    "            # print(f\"Result: {result}\")\n",
    "            return result, equation\n",
    "\n",
    "        else:\n",
    "            # print(\"5\")\n",
    "            left, right = equation.split(\"=\")\n",
    "            # print(\"6\")\n",
    "            # eq = left+'-'+right\n",
    "            # print('---------------')\n",
    "            result = sym.solve(left,right)\n",
    "            # result = sym.solve(left + \"-\" + right, x)\n",
    "\n",
    "            if len(result) == 0:\n",
    "                # print(\"No solution found.\")\n",
    "                return \"No solution found.\",equation \n",
    "            else:\n",
    "                # print(\"Solution(s):\")\n",
    "                return result, equation\n",
    "\n",
    "    except (ValueError, TypeError, AttributeError, RuntimeError, SyntaxError) as e:\n",
    "        # print(f\"Error: {e}\")\n",
    "        return str('Wrong equation prediction'), equation"
   ]
  },
  {
   "cell_type": "code",
   "execution_count": 20,
   "metadata": {},
   "outputs": [
    {
     "data": {
      "text/plain": [
       "('Wrong equation prediction', '9*y**3+3*y+1')"
      ]
     },
     "execution_count": 20,
     "metadata": {},
     "output_type": "execute_result"
    }
   ],
   "source": [
    "# Example usage:\n",
    "# Solve a linear equation: 2x + 1 = 0\n",
    "# solve_equation('2*x + 1')\n",
    "\n",
    "# Solve a quadratic equation: x^2 + 2x + 1 = 0\n",
    "# solve_equation('x**2 + 2*x + 1')\n",
    "\n",
    "# Evaluate an arithmetic expression: 2 + 3 * 4 - 1\n",
    "# solve_equation('2 + 3 * 4 - 1')\n",
    "\n",
    "# Solve an arithmetic equation: x + 2 = 5\n",
    "# solve_equation('x + 2 = 5')\n",
    "\n",
    "solve_equation('9y3+3y+1')"
   ]
  },
  {
   "cell_type": "code",
   "execution_count": 28,
   "metadata": {},
   "outputs": [],
   "source": [
    "y = sym.symbols('y')\n",
    "eq = 3*y+1\n",
    "\n",
    "solution = sym.solveset(eq, y)"
   ]
  },
  {
   "cell_type": "code",
   "execution_count": 29,
   "metadata": {},
   "outputs": [
    {
     "data": {
      "text/latex": [
       "$\\displaystyle \\left\\{- \\frac{1}{3}\\right\\}$"
      ],
      "text/plain": [
       "{-1/3}"
      ]
     },
     "execution_count": 29,
     "metadata": {},
     "output_type": "execute_result"
    }
   ],
   "source": [
    "solution"
   ]
  },
  {
   "cell_type": "code",
   "execution_count": null,
   "metadata": {},
   "outputs": [],
   "source": []
  }
 ],
 "metadata": {
  "kernelspec": {
   "display_name": "Python 3",
   "language": "python",
   "name": "python3"
  },
  "language_info": {
   "codemirror_mode": {
    "name": "ipython",
    "version": 3
   },
   "file_extension": ".py",
   "mimetype": "text/x-python",
   "name": "python",
   "nbconvert_exporter": "python",
   "pygments_lexer": "ipython3",
   "version": "3.10.10"
  },
  "orig_nbformat": 4
 },
 "nbformat": 4,
 "nbformat_minor": 2
}
